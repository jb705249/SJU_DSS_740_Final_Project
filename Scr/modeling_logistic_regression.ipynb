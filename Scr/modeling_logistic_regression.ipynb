{
 "cells": [
  {
   "cell_type": "markdown",
   "id": "bcb27d06",
   "metadata": {},
   "source": [
    "# Logistic Regression Model\n",
    "## Model 1"
   ]
  },
  {
   "cell_type": "markdown",
   "id": "4ec1e5e8",
   "metadata": {},
   "source": [
    "# Imports "
   ]
  },
  {
   "cell_type": "code",
   "execution_count": 39,
   "id": "1021709b",
   "metadata": {},
   "outputs": [],
   "source": [
    "# Imports\n",
    "import pandas as pd\n",
    "import numpy as np\n",
    "from sklearn.datasets import load_breast_cancer\n",
    "from sklearn.model_selection import train_test_split, cross_val_score, learning_curve, validation_curve, GridSearchCV, StratifiedKFold, KFold\n",
    "from sklearn.pipeline import Pipeline\n",
    "from sklearn.preprocessing import StandardScaler, OneHotEncoder, MinMaxScaler\n",
    "from sklearn.impute import SimpleImputer\n",
    "from imblearn.over_sampling import SMOTE\n",
    "from imblearn.pipeline import Pipeline as ImbPipeline \n",
    "from sklearn.tree import DecisionTreeClassifier, plot_tree\n",
    "from sklearn.linear_model import LogisticRegression\n",
    "from sklearn.metrics import classification_report, confusion_matrix, accuracy_score, roc_curve, auc, precision_score, recall_score\n",
    "import matplotlib.pyplot as plt\n",
    "import seaborn as sns"
   ]
  },
  {
   "cell_type": "code",
   "execution_count": 3,
   "id": "e00f9cfc",
   "metadata": {},
   "outputs": [
    {
     "data": {
      "text/html": [
       "<div>\n",
       "<style scoped>\n",
       "    .dataframe tbody tr th:only-of-type {\n",
       "        vertical-align: middle;\n",
       "    }\n",
       "\n",
       "    .dataframe tbody tr th {\n",
       "        vertical-align: top;\n",
       "    }\n",
       "\n",
       "    .dataframe thead th {\n",
       "        text-align: right;\n",
       "    }\n",
       "</style>\n",
       "<table border=\"1\" class=\"dataframe\">\n",
       "  <thead>\n",
       "    <tr style=\"text-align: right;\">\n",
       "      <th></th>\n",
       "      <th>column</th>\n",
       "      <th>change</th>\n",
       "      <th>rationale</th>\n",
       "    </tr>\n",
       "  </thead>\n",
       "  <tbody>\n",
       "    <tr>\n",
       "      <th>0</th>\n",
       "      <td>age</td>\n",
       "      <td>Removed 3 row(s) where age &gt; 125</td>\n",
       "      <td>Oldest verified human lived to be 122; values above 125 are likely errors or outliers.</td>\n",
       "    </tr>\n",
       "    <tr>\n",
       "      <th>1</th>\n",
       "      <td>loan_status</td>\n",
       "      <td>Dropped loan_status column</td>\n",
       "      <td>Target variable for classification; not needed in cleaned dataset.</td>\n",
       "    </tr>\n",
       "    <tr>\n",
       "      <th>2</th>\n",
       "      <td>person_income</td>\n",
       "      <td>Capped person_income at $3,000,000 and applied log1p transformation</td>\n",
       "      <td>Handled extreme right skew and outliers in income distribution; log1p applied to normalize values and removed person_income for modeling.</td>\n",
       "    </tr>\n",
       "    <tr>\n",
       "      <th>3</th>\n",
       "      <td>loan_amnt</td>\n",
       "      <td>Applied log1p transformation to loan_amount</td>\n",
       "      <td>Handled extreme right skew and outliers in loan amount distribution; log1p applied to normalize values.</td>\n",
       "    </tr>\n",
       "    <tr>\n",
       "      <th>4</th>\n",
       "      <td>person_emp_exp</td>\n",
       "      <td>Removed 5 row(s) where person_emp_exp &gt; 70</td>\n",
       "      <td>Unrealistic employment experience; values above 70 years are likely errors or outliers.</td>\n",
       "    </tr>\n",
       "    <tr>\n",
       "      <th>5</th>\n",
       "      <td>person_education</td>\n",
       "      <td>Combined Master and Doctorate categories into one group -- Graduate</td>\n",
       "      <td>Doctorate had the lowest frequency out of all the categories which could impact analysis</td>\n",
       "    </tr>\n",
       "    <tr>\n",
       "      <th>6</th>\n",
       "      <td>person_home_ownership</td>\n",
       "      <td>Combined RENT and OTHER into Non-Homeowner category and MORTGAGE and OWN into Homeowner category</td>\n",
       "      <td>RENT and MORTGAGE had high frequencies while OWN and OTHER had low frequencies which could impact analysis</td>\n",
       "    </tr>\n",
       "    <tr>\n",
       "      <th>7</th>\n",
       "      <td>['person_gender', 'loan_intent', 'previous_loan_defaults_on_file', 'person_education_new', 'person_home_ownership_new']</td>\n",
       "      <td>Applied one-hot encoding (drop_first=True)</td>\n",
       "      <td>Converted categorical variables into binary indicators for model compatibility.</td>\n",
       "    </tr>\n",
       "    <tr>\n",
       "      <th>8</th>\n",
       "      <td>loan_status</td>\n",
       "      <td>Readded loan_status column</td>\n",
       "      <td>Target variable for classification; readded after cleaning and preprocessing.</td>\n",
       "    </tr>\n",
       "  </tbody>\n",
       "</table>\n",
       "</div>"
      ],
      "text/plain": [
       "                                                                                                                    column  \\\n",
       "0                                                                                                                      age   \n",
       "1                                                                                                              loan_status   \n",
       "2                                                                                                            person_income   \n",
       "3                                                                                                                loan_amnt   \n",
       "4                                                                                                           person_emp_exp   \n",
       "5                                                                                                         person_education   \n",
       "6                                                                                                    person_home_ownership   \n",
       "7  ['person_gender', 'loan_intent', 'previous_loan_defaults_on_file', 'person_education_new', 'person_home_ownership_new']   \n",
       "8                                                                                                              loan_status   \n",
       "\n",
       "                                                                                             change  \\\n",
       "0                                                                  Removed 3 row(s) where age > 125   \n",
       "1                                                                        Dropped loan_status column   \n",
       "2                               Capped person_income at $3,000,000 and applied log1p transformation   \n",
       "3                                                       Applied log1p transformation to loan_amount   \n",
       "4                                                        Removed 5 row(s) where person_emp_exp > 70   \n",
       "5                               Combined Master and Doctorate categories into one group -- Graduate   \n",
       "6  Combined RENT and OTHER into Non-Homeowner category and MORTGAGE and OWN into Homeowner category   \n",
       "7                                                        Applied one-hot encoding (drop_first=True)   \n",
       "8                                                                        Readded loan_status column   \n",
       "\n",
       "                                                                                                                                   rationale  \n",
       "0                                                     Oldest verified human lived to be 122; values above 125 are likely errors or outliers.  \n",
       "1                                                                         Target variable for classification; not needed in cleaned dataset.  \n",
       "2  Handled extreme right skew and outliers in income distribution; log1p applied to normalize values and removed person_income for modeling.  \n",
       "3                                    Handled extreme right skew and outliers in loan amount distribution; log1p applied to normalize values.  \n",
       "4                                                    Unrealistic employment experience; values above 70 years are likely errors or outliers.  \n",
       "5                                                   Doctorate had the lowest frequency out of all the categories which could impact analysis  \n",
       "6                                 RENT and MORTGAGE had high frequencies while OWN and OTHER had low frequencies which could impact analysis  \n",
       "7                                                            Converted categorical variables into binary indicators for model compatibility.  \n",
       "8                                                              Target variable for classification; readded after cleaning and preprocessing.  "
      ]
     },
     "metadata": {},
     "output_type": "display_data"
    }
   ],
   "source": [
    "# Import change_summary\n",
    "changelog = pd.read_csv('../Changelogs/change_summary.csv').to_dict(orient='records')\n",
    "\n",
    "# Change summary intialization and check\n",
    "change_summary = pd.DataFrame(changelog)\n",
    "pd.set_option('display.max_colwidth', None)\n",
    "display(change_summary)  "
   ]
  },
  {
   "cell_type": "markdown",
   "id": "d22e1b11",
   "metadata": {},
   "source": [
    "# Data Prep"
   ]
  },
  {
   "cell_type": "code",
   "execution_count": 4,
   "id": "90e51f41",
   "metadata": {},
   "outputs": [
    {
     "data": {
      "text/html": [
       "<div>\n",
       "<style scoped>\n",
       "    .dataframe tbody tr th:only-of-type {\n",
       "        vertical-align: middle;\n",
       "    }\n",
       "\n",
       "    .dataframe tbody tr th {\n",
       "        vertical-align: top;\n",
       "    }\n",
       "\n",
       "    .dataframe thead th {\n",
       "        text-align: right;\n",
       "    }\n",
       "</style>\n",
       "<table border=\"1\" class=\"dataframe\">\n",
       "  <thead>\n",
       "    <tr style=\"text-align: right;\">\n",
       "      <th></th>\n",
       "      <th>person_age</th>\n",
       "      <th>person_emp_exp</th>\n",
       "      <th>loan_int_rate</th>\n",
       "      <th>loan_percent_income</th>\n",
       "      <th>cb_person_cred_hist_length</th>\n",
       "      <th>credit_score</th>\n",
       "      <th>log_income</th>\n",
       "      <th>log_loan_amt</th>\n",
       "      <th>person_gender_male</th>\n",
       "      <th>loan_intent_EDUCATION</th>\n",
       "      <th>loan_intent_HOMEIMPROVEMENT</th>\n",
       "      <th>loan_intent_MEDICAL</th>\n",
       "      <th>loan_intent_PERSONAL</th>\n",
       "      <th>loan_intent_VENTURE</th>\n",
       "      <th>previous_loan_defaults_on_file_Yes</th>\n",
       "      <th>person_education_new_Bachelor</th>\n",
       "      <th>person_education_new_Graduate</th>\n",
       "      <th>person_education_new_High School</th>\n",
       "      <th>person_home_ownership_new_Non-Homeowner</th>\n",
       "      <th>loan_status</th>\n",
       "    </tr>\n",
       "  </thead>\n",
       "  <tbody>\n",
       "    <tr>\n",
       "      <th>0</th>\n",
       "      <td>22</td>\n",
       "      <td>0</td>\n",
       "      <td>16.02</td>\n",
       "      <td>0.49</td>\n",
       "      <td>3</td>\n",
       "      <td>561</td>\n",
       "      <td>11.183713</td>\n",
       "      <td>10.463132</td>\n",
       "      <td>0</td>\n",
       "      <td>0</td>\n",
       "      <td>0</td>\n",
       "      <td>0</td>\n",
       "      <td>1</td>\n",
       "      <td>0</td>\n",
       "      <td>0</td>\n",
       "      <td>0</td>\n",
       "      <td>1</td>\n",
       "      <td>0</td>\n",
       "      <td>1</td>\n",
       "      <td>1</td>\n",
       "    </tr>\n",
       "    <tr>\n",
       "      <th>1</th>\n",
       "      <td>21</td>\n",
       "      <td>0</td>\n",
       "      <td>11.14</td>\n",
       "      <td>0.08</td>\n",
       "      <td>2</td>\n",
       "      <td>504</td>\n",
       "      <td>9.415971</td>\n",
       "      <td>6.908755</td>\n",
       "      <td>0</td>\n",
       "      <td>1</td>\n",
       "      <td>0</td>\n",
       "      <td>0</td>\n",
       "      <td>0</td>\n",
       "      <td>0</td>\n",
       "      <td>1</td>\n",
       "      <td>0</td>\n",
       "      <td>0</td>\n",
       "      <td>1</td>\n",
       "      <td>0</td>\n",
       "      <td>0</td>\n",
       "    </tr>\n",
       "    <tr>\n",
       "      <th>2</th>\n",
       "      <td>25</td>\n",
       "      <td>3</td>\n",
       "      <td>12.87</td>\n",
       "      <td>0.44</td>\n",
       "      <td>3</td>\n",
       "      <td>635</td>\n",
       "      <td>9.428592</td>\n",
       "      <td>8.612685</td>\n",
       "      <td>0</td>\n",
       "      <td>0</td>\n",
       "      <td>0</td>\n",
       "      <td>1</td>\n",
       "      <td>0</td>\n",
       "      <td>0</td>\n",
       "      <td>0</td>\n",
       "      <td>0</td>\n",
       "      <td>0</td>\n",
       "      <td>1</td>\n",
       "      <td>0</td>\n",
       "      <td>1</td>\n",
       "    </tr>\n",
       "    <tr>\n",
       "      <th>3</th>\n",
       "      <td>23</td>\n",
       "      <td>0</td>\n",
       "      <td>15.23</td>\n",
       "      <td>0.44</td>\n",
       "      <td>2</td>\n",
       "      <td>675</td>\n",
       "      <td>11.286702</td>\n",
       "      <td>10.463132</td>\n",
       "      <td>0</td>\n",
       "      <td>0</td>\n",
       "      <td>0</td>\n",
       "      <td>1</td>\n",
       "      <td>0</td>\n",
       "      <td>0</td>\n",
       "      <td>0</td>\n",
       "      <td>1</td>\n",
       "      <td>0</td>\n",
       "      <td>0</td>\n",
       "      <td>1</td>\n",
       "      <td>1</td>\n",
       "    </tr>\n",
       "    <tr>\n",
       "      <th>4</th>\n",
       "      <td>24</td>\n",
       "      <td>1</td>\n",
       "      <td>14.27</td>\n",
       "      <td>0.53</td>\n",
       "      <td>4</td>\n",
       "      <td>586</td>\n",
       "      <td>11.099469</td>\n",
       "      <td>10.463132</td>\n",
       "      <td>1</td>\n",
       "      <td>0</td>\n",
       "      <td>0</td>\n",
       "      <td>1</td>\n",
       "      <td>0</td>\n",
       "      <td>0</td>\n",
       "      <td>0</td>\n",
       "      <td>0</td>\n",
       "      <td>1</td>\n",
       "      <td>0</td>\n",
       "      <td>1</td>\n",
       "      <td>1</td>\n",
       "    </tr>\n",
       "  </tbody>\n",
       "</table>\n",
       "</div>"
      ],
      "text/plain": [
       "   person_age  person_emp_exp  loan_int_rate  loan_percent_income  \\\n",
       "0          22               0          16.02                 0.49   \n",
       "1          21               0          11.14                 0.08   \n",
       "2          25               3          12.87                 0.44   \n",
       "3          23               0          15.23                 0.44   \n",
       "4          24               1          14.27                 0.53   \n",
       "\n",
       "   cb_person_cred_hist_length  credit_score  log_income  log_loan_amt  \\\n",
       "0                           3           561   11.183713     10.463132   \n",
       "1                           2           504    9.415971      6.908755   \n",
       "2                           3           635    9.428592      8.612685   \n",
       "3                           2           675   11.286702     10.463132   \n",
       "4                           4           586   11.099469     10.463132   \n",
       "\n",
       "   person_gender_male  loan_intent_EDUCATION  loan_intent_HOMEIMPROVEMENT  \\\n",
       "0                   0                      0                            0   \n",
       "1                   0                      1                            0   \n",
       "2                   0                      0                            0   \n",
       "3                   0                      0                            0   \n",
       "4                   1                      0                            0   \n",
       "\n",
       "   loan_intent_MEDICAL  loan_intent_PERSONAL  loan_intent_VENTURE  \\\n",
       "0                    0                     1                    0   \n",
       "1                    0                     0                    0   \n",
       "2                    1                     0                    0   \n",
       "3                    1                     0                    0   \n",
       "4                    1                     0                    0   \n",
       "\n",
       "   previous_loan_defaults_on_file_Yes  person_education_new_Bachelor  \\\n",
       "0                                   0                              0   \n",
       "1                                   1                              0   \n",
       "2                                   0                              0   \n",
       "3                                   0                              1   \n",
       "4                                   0                              0   \n",
       "\n",
       "   person_education_new_Graduate  person_education_new_High School  \\\n",
       "0                              1                                 0   \n",
       "1                              0                                 1   \n",
       "2                              0                                 1   \n",
       "3                              0                                 0   \n",
       "4                              1                                 0   \n",
       "\n",
       "   person_home_ownership_new_Non-Homeowner  loan_status  \n",
       "0                                        1            1  \n",
       "1                                        0            0  \n",
       "2                                        0            1  \n",
       "3                                        1            1  \n",
       "4                                        1            1  "
      ]
     },
     "execution_count": 4,
     "metadata": {},
     "output_type": "execute_result"
    }
   ],
   "source": [
    "# Load cleaned data from CSV\n",
    "df = pd.read_csv(\"../Data/cleaned_loan_data.csv\")\n",
    "df.head()"
   ]
  },
  {
   "cell_type": "code",
   "execution_count": 5,
   "id": "365ad05e",
   "metadata": {},
   "outputs": [],
   "source": [
    "# Split the data into features and target variable\n",
    "X = df.drop(columns=['loan_status'])\n",
    "y = df['loan_status']"
   ]
  },
  {
   "cell_type": "code",
   "execution_count": 6,
   "id": "1f2c6cba",
   "metadata": {},
   "outputs": [
    {
     "name": "stdout",
     "output_type": "stream",
     "text": [
      "X_train: (31494, 19)\n",
      "X_test: (13498, 19)\n"
     ]
    }
   ],
   "source": [
    "X_train, X_test, y_train, y_test = train_test_split(X, y, test_size=0.3, random_state=42, shuffle=True, stratify=y)\n",
    "print(f\"X_train: {X_train.shape}\")\n",
    "print(f\"X_test: {X_test.shape}\")"
   ]
  },
  {
   "cell_type": "code",
   "execution_count": 7,
   "id": "3fe6efa0",
   "metadata": {},
   "outputs": [
    {
     "name": "stdout",
     "output_type": "stream",
     "text": [
      "Class distribution in training set:\n",
      "loan_status\n",
      "0    0.777799\n",
      "1    0.222201\n",
      "Name: proportion, dtype: float64\n",
      "Class distribution in test set:\n",
      "loan_status\n",
      "0    0.777819\n",
      "1    0.222181\n",
      "Name: proportion, dtype: float64\n"
     ]
    }
   ],
   "source": [
    "# Scale the features\n",
    "scaler = MinMaxScaler()\n",
    "X_train_scaled = scaler.fit_transform(X_train)\n",
    "X_test_scaled = scaler.transform(X_test)\n",
    "# Check for class imbalance\n",
    "print(f\"Class distribution in training set:\\n{y_train.value_counts(normalize=True)}\")\n",
    "print(f\"Class distribution in test set:\\n{y_test.value_counts(normalize=True)}\")\n",
    "\n",
    "# Changelog addition\n",
    "changelog.append({\n",
    "    'column': 'numerical_columns',\n",
    "    'change': 'Applied MinMaxScaler to training data; transformed test data using same scaler.',\n",
    "    'rationale': 'Avoided data leakage by fitting scaler only on training data. Ensures proper model generalization and adheres to machine learning best practices.'\n",
    "})\n",
    "\n"
   ]
  },
  {
   "cell_type": "markdown",
   "id": "460adf0f",
   "metadata": {},
   "source": [
    "# Models\n"
   ]
  },
  {
   "cell_type": "code",
   "execution_count": 20,
   "id": "c1cf4877",
   "metadata": {},
   "outputs": [
    {
     "name": "stdout",
     "output_type": "stream",
     "text": [
      "Logistic Regression Accuracy: 0.8069343606460216\n",
      "Logistic Regression Classification Report:\n",
      "               precision    recall  f1-score   support\n",
      "\n",
      "           0       0.81      0.98      0.89     10499\n",
      "           1       0.73      0.21      0.33      2999\n",
      "\n",
      "    accuracy                           0.81     13498\n",
      "   macro avg       0.77      0.59      0.61     13498\n",
      "weighted avg       0.79      0.81      0.76     13498\n",
      "\n"
     ]
    }
   ],
   "source": [
    "# Logistic Regression\n",
    "lrBase = LogisticRegression(max_iter=1000, solver='saga')\n",
    "lrBase.fit(X_train_scaled, y_train)\n",
    "y_pred = lrBase.predict(X_test_scaled)\n",
    "print(\"Logistic Regression Accuracy:\", accuracy_score(y_test, y_pred))\n",
    "print(\"Logistic Regression Classification Report:\\n\", classification_report(y_test, y_pred))"
   ]
  },
  {
   "cell_type": "code",
   "execution_count": 21,
   "id": "67907bc0",
   "metadata": {},
   "outputs": [
    {
     "data": {
      "image/png": "[encoded data removed]",
      "text/plain": [
       "<Figure size 640x480 with 1 Axes>"
      ]
     },
     "metadata": {},
     "output_type": "display_data"
    }
   ],
   "source": [
    "# Compute confusion matrix\n",
    "cm = confusion_matrix(y_test, y_pred)\n",
    "\n",
    "# Annotations for squares\n",
    "group_names = ['True Neg (TN)', 'False Pos (FP)', 'False Neg (FN)', 'True Pos (TP)']\n",
    "group_counts = [f'{value}' for value in cm.flatten()]\n",
    "labels = [f'{name}\\n{count}' for name, count in zip(group_names, group_counts)]\n",
    "labels = np.array(labels).reshape(2, 2)\n",
    "\n",
    "# Plot\n",
    "sns.heatmap(cm, annot=labels, fmt='', cmap='Blues', cbar=False, linewidths=0.5, linecolor='gray')\n",
    "plt.xlabel('Predicted Label')\n",
    "plt.ylabel('True Label')\n",
    "plt.title('Confusion Matrix for Logistic Regression\\n')\n",
    "plt.xticks(ticks=[0.5, 1.5], labels=['No (0)', 'Yes (1)'])\n",
    "plt.yticks(ticks=[0.5, 1.5], labels=['No (0)', 'Yes (1)'], rotation=0)\n",
    "plt.show()"
   ]
  },
  {
   "cell_type": "code",
   "execution_count": 22,
   "id": "ce3fc3b1",
   "metadata": {},
   "outputs": [
    {
     "name": "stdout",
     "output_type": "stream",
     "text": [
      "Accuracy Score: 0.81\n",
      "Precision Score: 0.73\n",
      "Recall Score: 0.21\n",
      "Specificity Score: 0.98\n"
     ]
    }
   ],
   "source": [
    "#Evaluate the model\n",
    "print('Accuracy Score: {:.2f}'.format(accuracy_score(y_test, y_pred)))\n",
    "print('Precision Score: {:.2f}'.format(precision_score(y_test, y_pred)))\n",
    "print('Recall Score: {:.2f}'.format(recall_score(y_test, y_pred)))\n",
    "\n",
    "tn = cm[0,0]\n",
    "fp = cm[0,1]\n",
    "specificity = tn/(tn+fp)\n",
    "print('Specificity Score: {:.2f}'.format(specificity))"
   ]
  },
  {
   "cell_type": "code",
   "execution_count": 11,
   "id": "87e07b26",
   "metadata": {},
   "outputs": [],
   "source": [
    "# SMOTE for handling class imbalance\n",
    "smote = SMOTE(random_state=42)\n",
    "X_smote_train, y_smote_train = smote.fit_resample(X_train_scaled, y_train)\n",
    "\n",
    "# Check the class distribution after SMOTE\n",
    "X_smote_test = X_test_scaled\n",
    "y_smote_test = y_test\n",
    "\n",
    "# Changelog entry for SMOTE\n",
    "changelog.append({\n",
    "    'column': 'subscribe_to_term_deposit',\n",
    "    'change': f'Resampled training set with SMOTE (train shape now: {X_smote_train.shape}, test shape: {X_test.shape})',\n",
    "    'rationale': 'Used SMOTE to correct class imbalance in training data for better model performance.'\n",
    "})\n"
   ]
  },
  {
   "cell_type": "code",
   "execution_count": null,
   "id": "714b4417",
   "metadata": {},
   "outputs": [],
   "source": [
    "# Train/test split on SMOTE\n",
    "#X_smote = df.drop(columns=['loan_status'])\n",
    "#y_smote = df['loan_status']\n",
    "\n",
    "#X_train, X_test, y_train, y_test = train_test_split(X, y, stratify=y, test_size=0.3, random_state=42)\n",
    "#smote = SMOTE(random_state=42)\n",
    "#X_train_smote, y_train_smote = smote.fit_resample(X_train, y_train)\n",
    "\n",
    "lr_smote = LogisticRegression(max_iter=1000)\n",
    "lr_smote.fit(X_smote_train, y_smote_train)\n",
    "y_smote_pred = lr_smote.predict(X_test_scaled)\n",
    "\n",
    "\n"
   ]
  },
  {
   "cell_type": "code",
   "execution_count": 28,
   "id": "b84ffb27",
   "metadata": {},
   "outputs": [
    {
     "data": {
      "image/png": "[encoded data removed]",
      "text/plain": [
       "<Figure size 640x480 with 1 Axes>"
      ]
     },
     "metadata": {},
     "output_type": "display_data"
    },
    {
     "name": "stdout",
     "output_type": "stream",
     "text": [
      "Accuracy Score: 0.67\n",
      "Precision Score: 0.37\n",
      "Recall Score: 0.68\n",
      "Specificity Score: 0.67\n"
     ]
    }
   ],
   "source": [
    "# Compute confusion matrix\n",
    "cm_smote = confusion_matrix(y_test, y_smote_pred)\n",
    "\n",
    "# Define labels for annotations\n",
    "group_names = ['True Neg (TN)', 'False Pos (FP)', 'False Neg (FN)', 'True Pos (TP)']\n",
    "group_counts = [f'{value}' for value in cm.flatten()]\n",
    "labels = [f'{name}\\n{count}' for name, count in zip(group_names, group_counts)]\n",
    "labels = np.array(labels).reshape(2, 2)\n",
    "\n",
    "# Plot\n",
    "sns.heatmap(cm_smote, annot=labels, fmt='', cmap='Blues', cbar=False, linewidths=0.5, linecolor='gray')\n",
    "plt.xlabel('Predicted Label')\n",
    "plt.ylabel('True Label')\n",
    "plt.title('Confusion Matrix for Logistic Regression (SMOTE)\\n')\n",
    "plt.xticks(ticks=[0.5, 1.5], labels=['No (0)', 'Yes (1)'])\n",
    "plt.yticks(ticks=[0.5, 1.5], labels=['No (0)', 'Yes (1)'], rotation=0)\n",
    "plt.show()\n",
    "\n",
    "#Evaluate the model\n",
    "print('Accuracy Score: {:.2f}'.format(accuracy_score(y_test, y_smote_pred)))\n",
    "print('Precision Score: {:.2f}'.format(precision_score(y_test, y_smote_pred)))\n",
    "print('Recall Score: {:.2f}'.format(recall_score(y_test, y_smote_pred)))\n",
    "\n",
    "tn_smote = cm_smote[0,0]\n",
    "fp_smote = cm_smote[0,1]\n",
    "specificity_smote = tn_smote/(tn_smote+fp_smote)\n",
    "print('Specificity Score: {:.2f}'.format(specificity_smote))"
   ]
  },
  {
   "cell_type": "markdown",
   "id": "e324c8fa",
   "metadata": {},
   "source": [
    "<h3> Cross-Validation </h3>"
   ]
  },
  {
   "cell_type": "code",
   "execution_count": 50,
   "id": "7e300ef2",
   "metadata": {},
   "outputs": [
    {
     "name": "stdout",
     "output_type": "stream",
     "text": [
      "Cross-validation scores: [0.212      0.2025     0.2086043  0.23111556 0.21910955]\n",
      "Mean CV Recall: 0.2146658829414707\n"
     ]
    }
   ],
   "source": [
    "# Cross-validation on the original data\n",
    "#Create the model\n",
    "lr_CV = LogisticRegression(max_iter=1000)\n",
    "\n",
    "#Set the number of splits\n",
    "k_folds = StratifiedKFold(n_splits=5, shuffle=True, random_state=42)\n",
    "\n",
    "#Create pipeline to scale and run the model\n",
    "pipeline = Pipeline([('scaler', scaler), ('model',lr_CV)])\n",
    "\n",
    "#Run the cross-validation and evaluate the model\n",
    "cv_scores = cross_val_score(pipeline, X, y, cv=k_folds, scoring='recall')\n",
    "print(\"Cross-validation scores:\", cv_scores)\n",
    "print(\"Mean CV Recall:\", cv_scores.mean())"
   ]
  },
  {
   "cell_type": "code",
   "execution_count": 53,
   "id": "28c0c553",
   "metadata": {},
   "outputs": [
    {
     "name": "stdout",
     "output_type": "stream",
     "text": [
      "Cross-validation scores: [0.67018072 0.66650509 0.67031873 0.68139774 0.67152918]\n",
      "Mean CV Recall: 0.6719862903336792\n"
     ]
    }
   ],
   "source": [
    "# Cross-validation with SMOTE\n",
    "#Create the model\n",
    "lr_CV_smote = LogisticRegression(max_iter=1000, random_state=42, C=2.782559402207126)\n",
    "\n",
    "#Set the number of splits\n",
    "k_folds_smote = KFold(n_splits=5, shuffle=True, random_state=42)\n",
    "\n",
    "#Create pipeline to scale and run the model\n",
    "pipeline_smote = ImbPipeline([('scaler', scaler), ('smote', smote), ('model',lr_CV)])\n",
    "\n",
    "#Run the cross-validation and evaluate the model\n",
    "cv_scores_smote = cross_val_score(pipeline_smote, X, y, cv=k_folds_smote, scoring='recall')\n",
    "print(\"Cross-validation scores:\", cv_scores_smote)\n",
    "print(\"Mean CV Recall:\", cv_scores_smote.mean())"
   ]
  },
  {
   "cell_type": "code",
   "execution_count": null,
   "id": "6e300d97",
   "metadata": {},
   "outputs": [],
   "source": [
    "#Scores for Original data\n",
    "lr_cv_scores = cross_val_score(LogisticRegression(random_state=42, solver='liblinear'),\n",
    "                                X_train_scaled, y_train, cv=5, scoring='recall')\n",
    "\n",
    "#Scores for SMOTE data\n",
    "lr_smote_cv_scores = cross_val_score(lr_smote, X_smote_train, y_smote_train, cv=5, scoring='recall')\n",
    "\n",
    "print(\"\\nLogistic Regression Cross-Validation Comparison:\")\n",
    "print(f\"{'Dataset':<20}{'Mean CV Recall':<20}\")\n",
    "print(f\"{'Original':<20}{lr_cv_scores.mean():<20.4f}\")\n",
    "print(f\"{'SMOTE':<20}{lr_smote_cv_scores.mean():<20.4f}\")\n"
   ]
  },
  {
   "cell_type": "markdown",
   "id": "e7ff80fb",
   "metadata": {},
   "source": [
    "<h3> Hyperparameter Tuning </h3>"
   ]
  },
  {
   "cell_type": "markdown",
   "id": "1cf31a0b",
   "metadata": {},
   "source": [
    "<h4> Original Data </h4>"
   ]
  },
  {
   "cell_type": "code",
   "execution_count": null,
   "id": "18d44c5f",
   "metadata": {},
   "outputs": [
    {
     "name": "stdout",
     "output_type": "stream",
     "text": [
      "\n",
      "Logistic Regression Best Parameters: {'C': 2.782559402207126, 'penalty': 'l1', 'solver': 'liblinear'}\n"
     ]
    }
   ],
   "source": [
    "# Logistic Regression Hyperparameter Tuning\n",
    "lr_param_grid = {\n",
    "    'C': np.logspace(-4, 4, 10),\n",
    "    'penalty': ['l1', 'l2'],\n",
    "    'solver': ['liblinear']\n",
    "}\n",
    "lr_grid_search = GridSearchCV(LogisticRegression(random_state=42),\n",
    "                               param_grid=lr_param_grid, cv=5, scoring='recall', n_jobs=-1)\n",
    "lr_grid_search.fit(X_train_scaled, y_train)\n",
    "\n",
    "print(\"\\nLogistic Regression Best Parameters:\", lr_grid_search.best_params_)\n",
    "lr_best_model = lr_grid_search.best_estimator_"
   ]
  },
  {
   "cell_type": "code",
   "execution_count": 63,
   "id": "a3ccbedf",
   "metadata": {},
   "outputs": [
    {
     "name": "stdout",
     "output_type": "stream",
     "text": [
      "\n",
      "Logistic Regression (Tuned):\n",
      "              precision    recall  f1-score   support\n",
      "\n",
      "    Rejected       0.81      0.98      0.89     10499\n",
      "    Approved       0.72      0.21      0.33      2999\n",
      "\n",
      "    accuracy                           0.81     13498\n",
      "   macro avg       0.77      0.59      0.61     13498\n",
      "weighted avg       0.79      0.81      0.76     13498\n",
      "\n"
     ]
    },
    {
     "data": {
      "image/png": "[encoded data removed]",
      "text/plain": [
       "<Figure size 640x480 with 2 Axes>"
      ]
     },
     "metadata": {},
     "output_type": "display_data"
    },
    {
     "name": "stdout",
     "output_type": "stream",
     "text": [
      "Accuracy Score: 0.81\n",
      "Precision Score: 0.72\n",
      "Recall Score: 0.21\n"
     ]
    }
   ],
   "source": [
    "# Define string labels for display\n",
    "target_names = ['Rejected', 'Approved'] \n",
    "\n",
    "# Generate predictions\n",
    "lr_tuned_predictions = lr_best_model.predict(X_test_scaled)\n",
    "\n",
    "# Classification report\n",
    "print(\"\\nLogistic Regression (Tuned):\")\n",
    "print(classification_report(y_test, lr_tuned_predictions, target_names=target_names))\n",
    "\n",
    "# Confusion matrix\n",
    "cm_lr_tuned = confusion_matrix(y_test, lr_tuned_predictions, labels=[0, 1])\n",
    "sns.heatmap(cm_lr_tuned, annot=True, fmt='d', cmap='Greens',\n",
    "            xticklabels=target_names, yticklabels=target_names)\n",
    "plt.xlabel('Predicted')\n",
    "plt.ylabel('Actual')\n",
    "plt.title('Confusion Matrix - Logistic Regression (Tuned)')\n",
    "plt.show()\n",
    "\n",
    "#Evaluate the model\n",
    "print('Accuracy Score: {:.2f}'.format(accuracy_score(y_test, lr_tuned_predictions)))\n",
    "print('Precision Score: {:.2f}'.format(precision_score(y_test, lr_tuned_predictions)))\n",
    "print('Recall Score: {:.2f}'.format(recall_score(y_test, lr_tuned_predictions)))\n"
   ]
  },
  {
   "cell_type": "markdown",
   "id": "eb558bbd",
   "metadata": {},
   "source": [
    "<h4> Data with Smote </h4>"
   ]
  },
  {
   "cell_type": "code",
   "execution_count": 66,
   "id": "dfa30c92",
   "metadata": {},
   "outputs": [
    {
     "name": "stdout",
     "output_type": "stream",
     "text": [
      "\n",
      "Logistic Regression Best Parameters: {'C': 0.0001, 'penalty': 'l2', 'solver': 'liblinear'}\n"
     ]
    }
   ],
   "source": [
    "# SMOTE Logistic Regression Hyperparameter Tuning\n",
    "lr_param_grid_smote = {\n",
    "    'C': np.logspace(-4, 4, 10),\n",
    "    'penalty': ['l1', 'l2'],\n",
    "    'solver': ['liblinear']\n",
    "}\n",
    "lr_grid_search_smote = GridSearchCV(LogisticRegression(random_state=42),\n",
    "                               param_grid=lr_param_grid_smote, cv=5, scoring='recall', n_jobs=-1)\n",
    "lr_grid_search_smote.fit(X_smote_train, y_smote_train)\n",
    "\n",
    "print(\"\\nLogistic Regression Best Parameters:\", lr_grid_search_smote.best_params_)\n",
    "lr_best_model_smote = lr_grid_search.best_estimator_"
   ]
  },
  {
   "cell_type": "code",
   "execution_count": 67,
   "id": "d69dae02",
   "metadata": {},
   "outputs": [
    {
     "name": "stdout",
     "output_type": "stream",
     "text": [
      "\n",
      "Logistic Regression (Tuned):\n",
      "              precision    recall  f1-score   support\n",
      "\n",
      "           0       0.81      0.98      0.89     10499\n",
      "           1       0.72      0.21      0.33      2999\n",
      "\n",
      "    accuracy                           0.81     13498\n",
      "   macro avg       0.77      0.59      0.61     13498\n",
      "weighted avg       0.79      0.81      0.76     13498\n",
      "\n"
     ]
    },
    {
     "data": {
      "image/png": "[encoded data removed]",
      "text/plain": [
       "<Figure size 640x480 with 2 Axes>"
      ]
     },
     "metadata": {},
     "output_type": "display_data"
    },
    {
     "name": "stdout",
     "output_type": "stream",
     "text": [
      "Accuracy Score: 0.81\n",
      "Precision Score: 0.72\n",
      "Recall Score: 0.21\n"
     ]
    }
   ],
   "source": [
    "# Define string labels for display\n",
    "target_names = ['0', '1'] \n",
    "\n",
    "# Generate predictions\n",
    "lr_tuned_predictions_smote = lr_best_model_smote.predict(X_test_scaled)\n",
    "\n",
    "# Classification report\n",
    "print(\"\\nLogistic Regression (Tuned):\")\n",
    "print(classification_report(y_test, lr_tuned_predictions_smote, target_names=target_names))\n",
    "\n",
    "# Confusion matrix\n",
    "cm_lr_tuned_smote = confusion_matrix(y_test, lr_tuned_predictions_smote, labels=[0, 1])\n",
    "sns.heatmap(cm_lr_tuned_smote, annot=True, fmt='d', cmap='Greens',\n",
    "            xticklabels=target_names, yticklabels=target_names)\n",
    "plt.xlabel('Predicted')\n",
    "plt.ylabel('Actual')\n",
    "plt.title('Confusion Matrix - Logistic Regression (SMOTE Tuned)')\n",
    "plt.show()\n",
    "\n",
    "#Evaluate the model\n",
    "print('Accuracy Score: {:.2f}'.format(accuracy_score(y_test, lr_tuned_predictions_smote)))\n",
    "print('Precision Score: {:.2f}'.format(precision_score(y_test, lr_tuned_predictions_smote)))\n",
    "print('Recall Score: {:.2f}'.format(recall_score(y_test, lr_tuned_predictions_smote)))\n"
   ]
  },
  {
   "cell_type": "code",
   "execution_count": 69,
   "id": "23f563d4",
   "metadata": {},
   "outputs": [
    {
     "name": "stdout",
     "output_type": "stream",
     "text": [
      "Original: [[10256   243]\n",
      " [ 2365   634]]\n",
      "Smote: [[10256   243]\n",
      " [ 2365   634]]\n"
     ]
    }
   ],
   "source": [
    "print(\"Original:\", cm_lr_tuned)\n",
    "print(\"Smote:\", cm_lr_tuned_smote)"
   ]
  },
  {
   "cell_type": "code",
   "execution_count": null,
   "id": "9c0672bb",
   "metadata": {},
   "outputs": [],
   "source": [
    "# --- Learning Curve ---\n",
    "\n",
    "print(\"\\n--- Learning Curve ---\")\n",
    "\n",
    "def plot_learning_curve(estimator, title, X, y, axes=None, train_sizes=np.linspace(0.1, 1.0, 5), cv=None, scoring='accuracy'):\n",
    "    if axes is None:\n",
    "        _, axes = plt.subplots(1, 1, figsize=(10, 6))\n",
    "\n",
    "    train_sizes, train_scores, test_scores = learning_curve(\n",
    "        estimator, X, y, train_sizes=train_sizes, cv=cv, scoring=scoring, n_jobs=-1\n",
    "    )\n",
    "    train_scores_mean = np.mean(train_scores, axis=1)\n",
    "    train_scores_std = np.std(train_scores, axis=1)\n",
    "    test_scores_mean = np.mean(test_scores, axis=1)\n",
    "    test_scores_std = np.std(test_scores, axis=1)\n",
    "\n",
    "    axes.plot(train_sizes, train_scores_mean, 'o-', color=\"r\", label=\"Training score\")\n",
    "    axes.plot(train_sizes, test_scores_mean, 'o-', color=\"g\", label=\"Cross-validation score\")\n",
    "    axes.fill_between(train_sizes, train_scores_mean - train_scores_std,\n",
    "                     train_scores_mean + train_scores_std, alpha=0.1, color=\"r\")\n",
    "    axes.fill_between(train_sizes, test_scores_mean - test_scores_std,\n",
    "                     test_scores_mean + test_scores_std, alpha=0.1, color=\"g\")\n",
    "    axes.set_title(title)\n",
    "    axes.set_xlabel(\"Training examples\")\n",
    "    axes.set_ylabel(\"Score\")\n",
    "    axes.grid()\n",
    "    axes.legend(loc=\"best\")\n",
    "    return plt\n",
    "\n",
    "# Plot learning curves for different models\n",
    "fig, axes = plt.subplots(1, 3, figsize=(24, 6))\n",
    "# Original\n",
    "plot_learning_curve(LogisticRegression(random_state=42), \n",
    "                    \"Logistic Regression (Base)\", \n",
    "                    X_train, y_train, axes=axes[0], cv=5)\n",
    "\n",
    "# SMOTE\n",
    "plot_learning_curve(LogisticRegression(random_state=42), \n",
    "                    \"Logistic Regression (SMOTE)\", \n",
    "                    X_smote_train, y_smote_train, axes=axes[1], cv=5)\n",
    "\n",
    "# Tuned model\n",
    "plot_learning_curve(lr_best_model, \n",
    "                    \"Logistic Regression (Tuned)\", \n",
    "                    X_train, y_train, axes=axes[2], cv=5)\n",
    "\n",
    "plt.tight_layout()\n",
    "plt.show()\n",
    "\n"
   ]
  },
  {
   "cell_type": "code",
   "execution_count": null,
   "id": "cc20b622",
   "metadata": {},
   "outputs": [],
   "source": [
    "# --- Hyperparameter Tuning using Grid Search CV ---\n",
    "\n",
    "print(\"\\n--- Hyperparameter Tuning using Grid Search CV ---\")\n",
    "\n",
    "# Decision Tree\n",
    "dt_param_grid = {\n",
    "    'criterion': ['gini', 'entropy'],\n",
    "    'max_depth': np.arange(3, 15),\n",
    "    'min_samples_split': [2, 5, 10],\n",
    "    'min_samples_leaf': [3, 4, 5]\n",
    "}\n",
    "dt_grid_search = GridSearchCV(DecisionTreeClassifier(random_state=42),\n",
    "                               param_grid=dt_param_grid, cv=5, scoring='accuracy', n_jobs=-1)\n",
    "dt_grid_search.fit(X_train, y_train)\n",
    "\n",
    "print(\"\\nDecision Tree Best Parameters:\", dt_grid_search.best_params_)\n",
    "dt_best_model = dt_grid_search.best_estimator_\n"
   ]
  },
  {
   "cell_type": "code",
   "execution_count": null,
   "id": "45b56fbc",
   "metadata": {},
   "outputs": [],
   "source": [
    "# Visualize the Decision Tree\n",
    "plt.figure(figsize=(25, 10))\n",
    "plot_tree(dt_best_model, feature_names=X_train.columns, class_names=['Rejected', 'Approved'], filled=True, fontsize=8,\n",
    "          impurity=False,       \n",
    "          proportion=True, rounded=True)\n",
    "plt.title(\"Decision Tree Visualization\")\n",
    "plt.tight_layout()\n",
    "plt.show()"
   ]
  }
 ],
 "metadata": {
  "kernelspec": {
   "display_name": "base",
   "language": "python",
   "name": "python3"
  },
  "language_info": {
   "codemirror_mode": {
    "name": "ipython",
    "version": 3
   },
   "file_extension": ".py",
   "mimetype": "text/x-python",
   "name": "python",
   "nbconvert_exporter": "python",
   "pygments_lexer": "ipython3",
   "version": "3.12.7"
  }
 },
 "nbformat": 4,
 "nbformat_minor": 5
}
